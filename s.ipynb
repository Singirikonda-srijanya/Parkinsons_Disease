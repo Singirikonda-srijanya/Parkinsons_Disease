{
 "cells": [
  {
   "cell_type": "code",
   "execution_count": 3,
   "metadata": {},
   "outputs": [
    {
     "name": "stdout",
     "output_type": "stream",
     "text": [
      "             name  MDVP:Fo(Hz)  MDVP:Fhi(Hz)  MDVP:Flo(Hz)  MDVP:Jitter(%)  \\\n",
      "0  phon_R01_S01_1      119.992       157.302        74.997         0.00784   \n",
      "1  phon_R01_S01_2      122.400       148.650       113.819         0.00968   \n",
      "2  phon_R01_S01_3      116.682       131.111       111.555         0.01050   \n",
      "3  phon_R01_S01_4      116.676       137.871       111.366         0.00997   \n",
      "4  phon_R01_S01_5      116.014       141.781       110.655         0.01284   \n",
      "5  phon_R01_S01_6      120.552       131.162       113.787         0.00968   \n",
      "6  phon_R01_S02_1      120.267       137.244       114.820         0.00333   \n",
      "7  phon_R01_S02_2      107.332       113.840       104.315         0.00290   \n",
      "8  phon_R01_S02_3       95.730       132.068        91.754         0.00551   \n",
      "9  phon_R01_S02_4       95.056       120.103        91.226         0.00532   \n",
      "\n",
      "   MDVP:Jitter(Abs)  MDVP:RAP  MDVP:PPQ  Jitter:DDP  MDVP:Shimmer  ...  \\\n",
      "0           0.00007   0.00370   0.00554     0.01109       0.04374  ...   \n",
      "1           0.00008   0.00465   0.00696     0.01394       0.06134  ...   \n",
      "2           0.00009   0.00544   0.00781     0.01633       0.05233  ...   \n",
      "3           0.00009   0.00502   0.00698     0.01505       0.05492  ...   \n",
      "4           0.00011   0.00655   0.00908     0.01966       0.06425  ...   \n",
      "5           0.00008   0.00463   0.00750     0.01388       0.04701  ...   \n",
      "6           0.00003   0.00155   0.00202     0.00466       0.01608  ...   \n",
      "7           0.00003   0.00144   0.00182     0.00431       0.01567  ...   \n",
      "8           0.00006   0.00293   0.00332     0.00880       0.02093  ...   \n",
      "9           0.00006   0.00268   0.00332     0.00803       0.02838  ...   \n",
      "\n",
      "   Shimmer:DDA      NHR     HNR  status      RPDE       DFA   spread1  \\\n",
      "0      0.06545  0.02211  21.033       1  0.414783  0.815285 -4.813031   \n",
      "1      0.09403  0.01929  19.085       1  0.458359  0.819521 -4.075192   \n",
      "2      0.08270  0.01309  20.651       1  0.429895  0.825288 -4.443179   \n",
      "3      0.08771  0.01353  20.644       1  0.434969  0.819235 -4.117501   \n",
      "4      0.10470  0.01767  19.649       1  0.417356  0.823484 -3.747787   \n",
      "5      0.06985  0.01222  21.378       1  0.415564  0.825069 -4.242867   \n",
      "6      0.02337  0.00607  24.886       1  0.596040  0.764112 -5.634322   \n",
      "7      0.02487  0.00344  26.892       1  0.637420  0.763262 -6.167603   \n",
      "8      0.03218  0.01070  21.812       1  0.615551  0.773587 -5.498678   \n",
      "9      0.04324  0.01022  21.862       1  0.547037  0.798463 -5.011879   \n",
      "\n",
      "    spread2        D2       PPE  \n",
      "0  0.266482  2.301442  0.284654  \n",
      "1  0.335590  2.486855  0.368674  \n",
      "2  0.311173  2.342259  0.332634  \n",
      "3  0.334147  2.405554  0.368975  \n",
      "4  0.234513  2.332180  0.410335  \n",
      "5  0.299111  2.187560  0.357775  \n",
      "6  0.257682  1.854785  0.211756  \n",
      "7  0.183721  2.064693  0.163755  \n",
      "8  0.327769  2.322511  0.231571  \n",
      "9  0.325996  2.432792  0.271362  \n",
      "\n",
      "[10 rows x 24 columns]\n"
     ]
    }
   ],
   "source": [
    "import numpy as np\n",
    "import pandas as pd\n",
    "import matplotlib.pyplot as plt\n",
    " \n",
    "data = pd.read_csv(\"parkinsons.csv\")\n",
    "   \n",
    "print (data.head(10))"
   ]
  },
  {
   "cell_type": "code",
   "execution_count": 1,
   "metadata": {},
   "outputs": [
    {
     "ename": "SyntaxError",
     "evalue": "invalid syntax (3296619564.py, line 1)",
     "output_type": "error",
     "traceback": [
      "\u001b[1;36m  Cell \u001b[1;32mIn[1], line 1\u001b[1;36m\u001b[0m\n\u001b[1;33m    <!-- action=\"{{ url_for('predict')}}\"method=\"post\" -->\u001b[0m\n\u001b[1;37m    ^\u001b[0m\n\u001b[1;31mSyntaxError\u001b[0m\u001b[1;31m:\u001b[0m invalid syntax\n"
     ]
    }
   ],
   "source": [
    "<!-- action=\"{{ url_for('predict')}}\"method=\"post\" -->"
   ]
  },
  {
   "cell_type": "code",
   "execution_count": 5,
   "metadata": {},
   "outputs": [],
   "source": [
    "import numpy as np\n",
    "import pandas as pd\n",
    "import matplotlib.pyplot as plt\n",
    "import seaborn as sns\n",
    "# from google.colab import drive\n",
    "from sklearn.feature_selection import SelectKBest, f_classif\n",
    "from sklearn.metrics import (\n",
    "    classification_report, precision_score, recall_score, f1_score,\n",
    "    roc_auc_score, accuracy_score, confusion_matrix\n",
    ")\n",
    "from sklearn.model_selection import train_test_split\n",
    "from sklearn.neighbors import KNeighborsClassifier\n",
    "from sklearn.naive_bayes import GaussianNB\n",
    "from sklearn.linear_model import LogisticRegression\n",
    "import pickle"
   ]
  },
  {
   "cell_type": "code",
   "execution_count": 7,
   "metadata": {},
   "outputs": [],
   "source": [
    "df = pd.read_csv(\"parkinsons.csv\")\n",
    "\n",
    "def precision(class_id, TP, FP, TN, FN):\n",
    "    sonuc = 0\n",
    "    for i in range(len(class_id)):\n",
    "        if TP[i] == 0 or FP[i] == 0:\n",
    "            TP[i] = 0.00000001\n",
    "            FP[i] = 0.00000001\n",
    "        sonuc += (TP[i] / (TP[i] + FP[i]))\n",
    "\n",
    "    sonuc = sonuc / len(class_id)\n",
    "    return sonuc\n"
   ]
  },
  {
   "cell_type": "code",
   "execution_count": 8,
   "metadata": {},
   "outputs": [],
   "source": [
    "def recall(class_id, TP, FP, TN, FN):\n",
    "    sonuc = 0\n",
    "    for i in range(len(class_id)):\n",
    "        if TP[i] == 0 or FN[i] == 0:\n",
    "            TP[i] = 0.00000001\n",
    "            FN[i] = 0.00000001\n",
    "        sonuc += (TP[i] / (TP[i] + FN[i]))\n",
    "\n",
    "    sonuc = sonuc / len(class_id)\n",
    "    return sonuc"
   ]
  },
  {
   "cell_type": "code",
   "execution_count": 9,
   "metadata": {},
   "outputs": [],
   "source": [
    "def accuracy(class_id, TP, FP, TN, FN):\n",
    "    sonuc = 0\n",
    "    for i in range(len(class_id)):\n",
    "        sonuc += ((TP[i] + TN[i]) / (TP[i] + FP[i] + TN[i] + FN[i]))\n",
    "\n",
    "    sonuc = sonuc / len(class_id)\n",
    "    return sonuc\n"
   ]
  },
  {
   "cell_type": "code",
   "execution_count": 10,
   "metadata": {},
   "outputs": [],
   "source": [
    "def specificity(class_id, TP, FP, TN, FN):\n",
    "    sonuc = 0\n",
    "    for i in range(len(class_id)):\n",
    "        if TN[i] == 0 or FP[i] == 0:\n",
    "            TN[i] = 0.00000001\n",
    "            FP[i] = 0.00000001\n",
    "        sonuc += (TN[i] / (FP[i] + TN[i]))\n",
    "\n",
    "    sonuc = sonuc / len(class_id)\n",
    "    return sonuc"
   ]
  },
  {
   "cell_type": "code",
   "execution_count": 11,
   "metadata": {},
   "outputs": [],
   "source": [
    "def NPV(class_id, TP, FP, TN, FN):\n",
    "    sonuc = 0\n",
    "    for i in range(len(class_id)):\n",
    "        if TN[i] == 0 or FN[i] == 0:\n",
    "            TN[i] = 0.00000001\n",
    "            FN[i] = 0.00000001\n",
    "        sonuc += (TN[i] / (TN[i] + FN[i]))\n",
    "\n",
    "    sonuc = sonuc / len(class_id)\n",
    "    return sonuc"
   ]
  },
  {
   "cell_type": "code",
   "execution_count": 12,
   "metadata": {},
   "outputs": [],
   "source": [
    "def perf_measure(y_actual, y_pred):\n",
    "    class_id = set(y_actual).union(set(y_pred))\n",
    "    TP = []\n",
    "    FP = []\n",
    "    TN = []\n",
    "    FN = []\n",
    "    for index, _id in enumerate(class_id):\n",
    "        TP.append(0)\n",
    "        FP.append(0)\n",
    "        TN.append(0)\n",
    "        FN.append(0)\n",
    "    for i in range(len(y_pred)):\n",
    "        if y_actual[i] == y_pred[i] == _id:\n",
    "            TP[index] += 1\n",
    "        if y_pred[i] == _id and y_actual[i] != y_pred[i]:\n",
    "            FP[index] += 1\n",
    "        if y_pred[i] != _id and y_actual[i] == _id:\n",
    "            FN[index] += 1\n",
    "        if y_pred[i] != _id and y_actual[i] != _id:\n",
    "            TN[index] += 1\n",
    "    precision_score_val = precision(class_id, TP, FP, TN, FN)\n",
    "    recall_score_val = recall(class_id, TP, FP, TN, FN)\n",
    "    accuracy_score_val = accuracy(class_id, TP, FP, TN, FN)\n",
    "    specificity_score_val = specificity(class_id, TP, FP, TN, FN)\n",
    "    npv_score_val = NPV(class_id, TP, FP, TN, FN)\n",
    "\n",
    "    return (\n",
    "        precision_score_val, recall_score_val, accuracy_score_val,\n",
    "        specificity_score_val, npv_score_val\n",
    "    )\n",
    "\n"
   ]
  },
  {
   "cell_type": "code",
   "execution_count": 33,
   "metadata": {},
   "outputs": [],
   "source": [
    "X = df.drop(columns=['name']).values\n",
    "y = df['name'].values"
   ]
  },
  {
   "cell_type": "code",
   "execution_count": 28,
   "metadata": {},
   "outputs": [
    {
     "name": "stdout",
     "output_type": "stream",
     "text": [
      "<class 'pandas.core.frame.DataFrame'>\n",
      "RangeIndex: 195 entries, 0 to 194\n",
      "Data columns (total 24 columns):\n",
      " #   Column            Non-Null Count  Dtype  \n",
      "---  ------            --------------  -----  \n",
      " 0   name              195 non-null    object \n",
      " 1   MDVP:Fo(Hz)       195 non-null    float64\n",
      " 2   MDVP:Fhi(Hz)      195 non-null    float64\n",
      " 3   MDVP:Flo(Hz)      195 non-null    float64\n",
      " 4   MDVP:Jitter(%)    195 non-null    float64\n",
      " 5   MDVP:Jitter(Abs)  195 non-null    float64\n",
      " 6   MDVP:RAP          195 non-null    float64\n",
      " 7   MDVP:PPQ          195 non-null    float64\n",
      " 8   Jitter:DDP        195 non-null    float64\n",
      " 9   MDVP:Shimmer      195 non-null    float64\n",
      " 10  MDVP:Shimmer(dB)  195 non-null    float64\n",
      " 11  Shimmer:APQ3      195 non-null    float64\n",
      " 12  Shimmer:APQ5      195 non-null    float64\n",
      " 13  MDVP:APQ          195 non-null    float64\n",
      " 14  Shimmer:DDA       195 non-null    float64\n",
      " 15  NHR               195 non-null    float64\n",
      " 16  HNR               195 non-null    float64\n",
      " 17  status            195 non-null    int64  \n",
      " 18  RPDE              195 non-null    float64\n",
      " 19  DFA               195 non-null    float64\n",
      " 20  spread1           195 non-null    float64\n",
      " 21  spread2           195 non-null    float64\n",
      " 22  D2                195 non-null    float64\n",
      " 23  PPE               195 non-null    float64\n",
      "dtypes: float64(22), int64(1), object(1)\n",
      "memory usage: 36.7+ KB\n"
     ]
    }
   ],
   "source": [
    "df.info()"
   ]
  },
  {
   "cell_type": "code",
   "execution_count": 36,
   "metadata": {},
   "outputs": [
    {
     "name": "stderr",
     "output_type": "stream",
     "text": [
      "c:\\Users\\Sai Manne\\anaconda3\\envs\\myenv\\lib\\site-packages\\sklearn\\feature_selection\\_univariate_selection.py:109: RuntimeWarning: invalid value encountered in divide\n",
      "  msw = sswn / float(dfwn)\n"
     ]
    }
   ],
   "source": [
    "selector = SelectKBest(score_func=f_classif, k=10)\n",
    "X = selector.fit_transform(X, y)"
   ]
  },
  {
   "cell_type": "code",
   "execution_count": 19,
   "metadata": {},
   "outputs": [],
   "source": [
    "X_train, X_test, y_train, y_test = train_test_split(X, y, test_size=0.2, random_state=42)"
   ]
  },
  {
   "cell_type": "code",
   "execution_count": 20,
   "metadata": {},
   "outputs": [],
   "source": [
    "knn = KNeighborsClassifier(n_neighbors=5)\n",
    "knn.fit(X_train, y_train)\n",
    "knn_y_pred = knn.predict(X_test)\n"
   ]
  },
  {
   "cell_type": "code",
   "execution_count": 21,
   "metadata": {},
   "outputs": [],
   "source": [
    "gnb = GaussianNB()\n",
    "gnb.fit(X_train, y_train)\n",
    "gnb_y_pred = gnb.predict(X_test)"
   ]
  },
  {
   "cell_type": "code",
   "execution_count": 22,
   "metadata": {},
   "outputs": [
    {
     "name": "stderr",
     "output_type": "stream",
     "text": [
      "c:\\Users\\Sai Manne\\anaconda3\\envs\\myenv\\lib\\site-packages\\sklearn\\linear_model\\_logistic.py:458: ConvergenceWarning: lbfgs failed to converge (status=1):\n",
      "STOP: TOTAL NO. of ITERATIONS REACHED LIMIT.\n",
      "\n",
      "Increase the number of iterations (max_iter) or scale the data as shown in:\n",
      "    https://scikit-learn.org/stable/modules/preprocessing.html\n",
      "Please also refer to the documentation for alternative solver options:\n",
      "    https://scikit-learn.org/stable/modules/linear_model.html#logistic-regression\n",
      "  n_iter_i = _check_optimize_result(\n"
     ]
    }
   ],
   "source": [
    "lr = LogisticRegression(random_state=0)\n",
    "lr.fit(X_train, y_train)\n",
    "lr_y_pred = lr.predict(X_test)"
   ]
  },
  {
   "cell_type": "code",
   "execution_count": 23,
   "metadata": {},
   "outputs": [],
   "source": [
    "knn_scores = perf_measure(y_test, knn_y_pred)\n",
    "gnb_scores = perf_measure(y_test, gnb_y_pred)\n",
    "lr_scores = perf_measure(y_test, lr_y_pred)\n"
   ]
  },
  {
   "cell_type": "code",
   "execution_count": 24,
   "metadata": {},
   "outputs": [
    {
     "name": "stdout",
     "output_type": "stream",
     "text": [
      "K-Nearest Neighbors (KNN):\n",
      "Precision: 0.5\n",
      "Recall: 0.491803278852459\n",
      "Accuracy: 0.3438419503953395\n",
      "Specificity: 0.5081967213071613\n",
      "NPV: 0.5077763766288357\n"
     ]
    }
   ],
   "source": [
    "print(\"K-Nearest Neighbors (KNN):\")\n",
    "print(f\"Precision: {knn_scores[0]}\")\n",
    "print(f\"Recall: {knn_scores[1]}\")\n",
    "print(f\"Accuracy: {knn_scores[2]}\")\n",
    "print(f\"Specificity: {knn_scores[3]}\")\n",
    "print(f\"NPV: {knn_scores[4]}\")\n"
   ]
  },
  {
   "cell_type": "code",
   "execution_count": 25,
   "metadata": {},
   "outputs": [
    {
     "name": "stdout",
     "output_type": "stream",
     "text": [
      "\n",
      "Naive Bayes:\n",
      "Precision: 0.5\n",
      "Recall: 0.4931506850684932\n",
      "Accuracy: 0.34211450649473557\n",
      "Specificity: 0.5068493150648883\n",
      "NPV: 0.5064980681419037\n"
     ]
    }
   ],
   "source": [
    "print(\"\\nNaive Bayes:\")\n",
    "print(f\"Precision: {gnb_scores[0]}\")\n",
    "print(f\"Recall: {gnb_scores[1]}\")\n",
    "print(f\"Accuracy: {gnb_scores[2]}\")\n",
    "print(f\"Specificity: {gnb_scores[3]}\")\n",
    "print(f\"NPV: {gnb_scores[4]}\")"
   ]
  },
  {
   "cell_type": "code",
   "execution_count": 26,
   "metadata": {},
   "outputs": [
    {
     "name": "stdout",
     "output_type": "stream",
     "text": [
      "\n",
      "Logistic Regression:\n",
      "Precision: 0.5\n",
      "Recall: 0.49242424257575756\n",
      "Accuracy: 0.34304584304215713\n",
      "Specificity: 0.5075757575717703\n",
      "NPV: 0.5071872571872571\n"
     ]
    }
   ],
   "source": [
    "print(\"\\nLogistic Regression:\")\n",
    "print(f\"Precision: {lr_scores[0]}\")\n",
    "print(f\"Recall: {lr_scores[1]}\")\n",
    "print(f\"Accuracy: {lr_scores[2]}\")\n",
    "print(f\"Specificity: {lr_scores[3]}\")\n",
    "print(f\"NPV: {lr_scores[4]}\")"
   ]
  }
 ],
 "metadata": {
  "kernelspec": {
   "display_name": "myenv",
   "language": "python",
   "name": "python3"
  },
  "language_info": {
   "codemirror_mode": {
    "name": "ipython",
    "version": 3
   },
   "file_extension": ".py",
   "mimetype": "text/x-python",
   "name": "python",
   "nbconvert_exporter": "python",
   "pygments_lexer": "ipython3",
   "version": "3.10.11"
  },
  "orig_nbformat": 4
 },
 "nbformat": 4,
 "nbformat_minor": 2
}
